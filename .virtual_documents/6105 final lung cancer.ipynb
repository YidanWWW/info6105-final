


import pandas as pd
import os

base_file_path = os.path.join("data_csv/", "lung cancer death rates by country by year.csv")
base_df = pd.read_csv(base_file_path)

other_files = [f for f in os.listdir("data_csv/") if f.endswith('.csv') and f != "lung cancer death rates by country by year.csv"]

merged_df = base_df.copy()
for file in other_files:
    file_path = os.path.join("data_csv/", file)
    df = pd.read_csv(file_path)
    df = df.drop(columns=['Entity'], errors='ignore')

    merged_df = merged_df.merge(df, on=['Code', 'Year'], how='left')

merged_df.to_csv('merged_data.csv', index=False)


merged_df.shape


merged_df.head(10)


merged_df.columns


unique_countries = merged_df['Entity'].nunique()
unique_countries





countries_per_year = merged_df.groupby('Year')['Entity'].nunique().sort_index(ascending=False)
countries_per_year





data_2021 = merged_df[merged_df['Year'] == 2021].sort_values(
    by='Age-standardized death rate per 100 000 standard population', 
    ascending=False
)
data_2021.head(20)





# 直接看表的话2000,2005,2010,2015,2018,2019年的数据比较完整








import pandas as pd
import seaborn as sns
import matplotlib.pyplot as plt

def pairplots_for_country(df, country_code, target_variable='Age-standardized death rate per 100 000 standard population'):
    # Filter data for the specific country
    country_df = df[df['Code'] == country_code].copy()
    
    # Variables of interest
    variables_of_interest = [
        'Prevalence of current tobacco use (% of adults)',
        'PM2.5 air pollution, mean annual exposure (micrograms per cubic meter)',
        'Proportion of population with primary reliance on clean fuels and technologies for cooking (%) - Residence area type: Total',
        # 'Life expectancy - Type: period - Sex: both - Age: 0', --we are already using age-standardized rate
        'public_health_expenditure_pc_gdp',
        'GDP per capita, PPP (constant 2017 international $)'
    ]
    
    # Ensure target variable is included
    variables_of_interest.append(target_variable)
    
    # Filter the dataframe for the selected variables
    plot_df = country_df[variables_of_interest]
    
    # Number of rows needed for the pair plots (two columns per row)
    num_plots = len(variables_of_interest) - 1  # Subtract 1 to exclude the target variable
    num_rows = (num_plots + 1) // 2  # Calculate number of rows for two columns per row
    
    # Create subplots
    fig, axes = plt.subplots(num_rows, 2, figsize=(14, 6 * num_rows))
    
    # Flatten axes array to easily iterate through
    axes = axes.flatten()
    
    # Loop through the variables and plot them
    for i, col in enumerate(variables_of_interest[:-1]):  # Exclude the target variable itself
        sns.scatterplot(data=plot_df, x=col, y=target_variable, ax=axes[i])
        # axes[i].set_title(f'{col} vs {target_variable}')
        axes[i].set_xlabel(col)
        axes[i].set_ylabel(target_variable)
    
    # Hide any empty subplots (if any)
    for j in range(i + 1, len(axes)):
        axes[j].axis('off')
    
    # Adjust layout
    plt.tight_layout()
    
    return country_df



# What's it look like for USA?
usa_plots = pairplots_for_country(merged_df, 'USA')


hungary_plots = pairplots_for_country(merged_df,'HUN')


china_plots = pairplots_for_country(merged_df,'CUB')


import pandas as pd
import seaborn as sns
import matplotlib.pyplot as plt

def plot_time_series_trends(df, country_code, target_variable='Age-standardized death rate per 100 000 standard population'):
    """
    Generate a time series plot for a specific country, showing trends over time 
    for the target variable and other relevant variables.
    
    Parameters:
    -----------
    df : pandas.DataFrame
        The input DataFrame containing the data
    country_code : str
        The country code to filter the data by
    target_variable : str, optional
        The target variable to include in the plot (default is 'Age-standardized death rate per 100 000 standard population')
    
    Returns:
    --------
    Displays a time series plot for the country
    """
    # Filter data for the specific country
    country_df = df[df['Code'] == country_code].copy()
    
    if country_df.empty:
        raise ValueError(f"No data available for country code: {country_code}")
    
    # Ensure 'Year' column exists
    if 'Year' not in country_df.columns:
        raise ValueError("'Year' column is missing from the DataFrame")
    
    # Select relevant columns (excluding non-numeric columns)
    exclude_cols = ['Entity', 'Code', 'Year','Number']
    numeric_cols = []
    for col in country_df.columns:
        if col not in exclude_cols:
            try:
                pd.to_numeric(country_df[col])
                numeric_cols.append(col)
            except ValueError:
                pass
    
    # Check if target_variable is in numeric_cols, if not add it
    if target_variable not in numeric_cols and target_variable in country_df.columns:
        numeric_cols.append(target_variable)

    # Prepare the DataFrame for plotting
    plot_df = country_df[['Year'] + numeric_cols]
    
    # Ensure all columns needed are present
    if len(plot_df.columns) <= 1:
        raise ValueError(f"No numeric data available for country {country_code}")

    # Create the plot with two y-axes
    fig, ax1 = plt.subplots(figsize=(20, 8))
    ax2 = ax1.twinx()

    # Plot GDP per capita on the second y-axis
    gdp_data = plot_df[['Year', 'GDP per capita, PPP (constant 2017 international $)']]
    ax2.plot(gdp_data['Year'], gdp_data['GDP per capita, PPP (constant 2017 international $)'], label='GDP per capita', color='red', marker='o')
    ax2.set_ylabel('GDP per capita', color='red')

    # Plot other variables on the first y-axis
    other_vars = [col for col in numeric_cols if col != 'GDP per capita, PPP (constant 2017 international $)']
    for variable in other_vars:
        data = plot_df[['Year', variable]]
        ax1.plot(data['Year'], data[variable], label=variable, marker='o')

    # Customize the plot
    plt.title(f'Time Series Trends for {country_code}')
    ax1.set_xlabel('Year')
    ax1.set_ylabel('Value (excluding GDP per capita)')

    # Set x-axis to show all years
    all_years = sorted(plot_df['Year'].unique())
    ax1.set_xticks(all_years)
    ax1.set_xticklabels(all_years, rotation=45)

    # Combine legends from both axes
    lines1, labels1 = ax1.get_legend_handles_labels()
    lines2, labels2 = ax2.get_legend_handles_labels()
    ax1.legend(lines1 + lines2, labels1 + labels2, loc='upper center', bbox_to_anchor=(0.5, -0.15), ncol=3)

    plt.tight_layout()
    plt.show()


plot_time_series_trends(merged_df,'CUB')



