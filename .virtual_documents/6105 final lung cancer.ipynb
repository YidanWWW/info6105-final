


import pandas as pd
import os

base_file_path = os.path.join("data_csv/", "a.Lung cancer deaths EU & US longer time period.csv")
base_df = pd.read_csv(base_file_path)

other_files = [f for f in os.listdir("data_csv/") if f.endswith('.csv') and f != "a.Lung cancer deaths EU & US longer time period.csv"]

merged_df = base_df.copy()
for file in other_files:
    file_path = os.path.join("data_csv/", file)
    print(file_path)
    df = pd.read_csv(file_path)
    df = df.drop(columns=['Entity'], errors='ignore')

    merged_df = merged_df.merge(df, on=['Code', 'Year'], how='outer')

merged_df.to_csv('merged_data.csv', index=False)


merged_df.shape


merged_df[(merged_df['Code'] == 'USA') & (merged_df['Year'] > 1960)].head(10)


merged_df.columns


unique_countries = merged_df['Entity'].nunique()
unique_countries





countries_per_year = merged_df.groupby('Year')['Entity'].nunique().sort_index(ascending=False)
countries_per_year





data_2021 = merged_df[merged_df['Year'] == 2021].sort_values(
    by='Age-standardized death rate per 100 000 standard population', 
    ascending=False
)
data_2021.head(20)





# 直接看表的话2000,2005,2010,2015,2018,2019年的数据比较完整








import pandas as pd
import seaborn as sns
import matplotlib.pyplot as plt

def plot_time_series_trends(df, country_code, target_variable='Age-standardized death rate per 100 000 standard population'):
    """
    Generate a time series plot for a specific country, showing trends over time 
    for the target variable and other relevant variables.
    
    Parameters:
    -----------
    df : pandas.DataFrame
        The input DataFrame containing the data
    country_code : str
        The country code to filter the data by
    target_variable : str, optional
        The target variable to include in the plot (default is 'Age-standardized death rate per 100 000 standard population')
    
    Returns:
    --------
    Displays a time series plot for the country
    """
    # Filter data for the specific country
    country_df = df[df['Code'] == country_code].copy()
    
    if country_df.empty:
        raise ValueError(f"No data available for country code: {country_code}")
    
    # Ensure 'Year' column exists
    if 'Year' not in country_df.columns:
        raise ValueError("'Year' column is missing from the DataFrame")
    
    # Select relevant columns (excluding non-numeric columns)
    exclude_cols = ['Entity', 'Code', 'Year','Number']
    numeric_cols = []
    for col in country_df.columns:
        if col not in exclude_cols:
            try:
                pd.to_numeric(country_df[col])
                numeric_cols.append(col)
            except ValueError:
                pass
    
    # Check if target_variable is in numeric_cols, if not add it
    if target_variable not in numeric_cols and target_variable in country_df.columns:
        numeric_cols.append(target_variable)

    # Prepare the DataFrame for plotting
    plot_df = country_df[['Year'] + numeric_cols]
    
    # Ensure all columns needed are present
    if len(plot_df.columns) <= 1:
        raise ValueError(f"No numeric data available for country {country_code}")

    # Create the plot with two y-axes
    fig, ax1 = plt.subplots(figsize=(20, 8))
    ax2 = ax1.twinx()

    # Plot GDP per capita on the second y-axis
    gdp_data = plot_df[['Year', 'GDP per capita, PPP (constant 2017 international $)']]
    ax2.plot(gdp_data['Year'], gdp_data['GDP per capita, PPP (constant 2017 international $)'], label='GDP per capita', color='red', marker='o')
    ax2.set_ylabel('GDP per capita', color='red')

    # Plot other variables on the first y-axis
    other_vars = [col for col in numeric_cols if col != 'GDP per capita, PPP (constant 2017 international $)']
    for variable in other_vars:
        data = plot_df[['Year', variable]]
        ax1.plot(data['Year'], data[variable], label=variable, marker='o')

    # Customize the plot
    plt.title(f'Time Series Trends for {country_code}')
    ax1.set_xlabel('Year')
    ax1.set_ylabel('Value (excluding GDP per capita)')

    # Set x-axis to show all years
    all_years = sorted(plot_df['Year'].unique())
    ax1.set_xticks(all_years)
    ax1.set_xticklabels(all_years, rotation=45)

    # Combine legends from both axes
    lines1, labels1 = ax1.get_legend_handles_labels()
    lines2, labels2 = ax2.get_legend_handles_labels()
    ax1.legend(lines1 + lines2, labels1 + labels2, loc='upper center', bbox_to_anchor=(0.5, -0.15), ncol=3)

    plt.tight_layout()
    plt.show()


plot_time_series_trends(merged_df,'HUN')


import pandas as pd
import seaborn as sns
import matplotlib.pyplot as plt

def pairplots_for_all_countries(df, target_variable='Age-standardized death rate per 100 000 standard population'):
    # Variables of interest
    variables_of_interest = [
        # 'Prevalence of current tobacco use (% of adults)',
        'PM2.5 air pollution, mean annual exposure (micrograms per cubic meter)',
        'Proportion of population with primary reliance on clean fuels and technologies for cooking (%) - Residence area type: Total',
        'public_health_expenditure_pc_gdp',
        'GDP per capita, PPP (constant 2017 international $)'
    ]
    
    # Ensure target variable is included
    variables_of_interest.append(target_variable)
    
    # Filter the dataframe for the selected variables and remove NaN values
    plot_df = df[variables_of_interest].dropna()
    
    # Number of rows needed for the pair plots (two columns per row)
    num_plots = len(variables_of_interest) - 1  # Subtract 1 to exclude the target variable
    num_rows = (num_plots + 1) // 2  # Calculate number of rows for two columns per row
    
    # Create subplots
    fig, axes = plt.subplots(num_rows, 2, figsize=(14, 6 * num_rows))
    
    # Flatten axes array to easily iterate through
    axes = axes.flatten()
    
    # Loop through the variables and plot them
    for i, col in enumerate(variables_of_interest[:-1]):  # Exclude the target variable itself
        sns.regplot(data=plot_df, x=col, y=target_variable, ax=axes[i], 
                    scatter_kws={'alpha':0.5}, line_kws={'color': 'red'})
        axes[i].set_xlabel(col)
        axes[i].set_ylabel(target_variable)
        
        # Calculate and display correlation
        correlation = plot_df[col].corr(plot_df[target_variable])
        axes[i].text(0.05, 0.95, f'Correlation: {correlation:.2f}', 
                     transform=axes[i].transAxes, 
                     verticalalignment='top')
    
    # Hide any empty subplots (if any)
    for j in range(i + 1, len(axes)):
        axes[j].axis('off')
    
    # Adjust layout
    plt.suptitle('Relationship between Variables and Lung Cancer Death Rate\n(All Countries)', fontsize=16)
    plt.tight_layout()
    
    return plot_df


# Plot for all countries
all_countries_data = pairplots_for_all_countries(merged_df)


def pair_plot_age_standardized(df, country_code):
    """
    Create scatter plots of 'Age-standardized death rate per 100 000 standard population'
    against each other variable for a specific country, with 'Age-standardized death rate'
    on the y-axis and other variables on the x-axis.
    
    Parameters:
    -----------
    df : pandas.DataFrame
        The input DataFrame
    country_code : str
        The country code to filter data
    """
    # Filter data for the specific country
    country_df = df[df['Code'] == country_code].copy()
    
    # Sort by year to ensure correct plotting
    country_df = country_df.sort_values('Year')
    
    # Target variable for y-axis
    y_col = 'Age-standardized death rate per 100 000 standard population'
    if y_col not in country_df.columns:
        print(f"{y_col} not found in data.")
        return
    
    # Select numeric columns (exclude non-numeric)
    numeric_cols = country_df.select_dtypes(include=['float64', 'int64']).columns.tolist()
    numeric_cols = [col for col in numeric_cols if col not in ['Year', 'Number', y_col]]
    
    # Drop rows where the target variable is NaN
    country_df = country_df.dropna(subset=[y_col])
    
    # Create subplots
    num_cols = len(numeric_cols)
    num_rows = (num_cols + 1) // 2  # Ceiling division for rows
    fig, axes = plt.subplots(num_rows, 2, figsize=(20, 5 * num_rows))
    axes = axes.flatten()
    
    # Plot each variable
    for i, col in enumerate(numeric_cols):
        # Drop rows with NaN in the current column
        subset_df = country_df.dropna(subset=[col])
        
        # Plot scatter with y_col on y-axis and current column on x-axis
        axes[i].scatter(subset_df[col], subset_df[y_col], alpha=0.7, color='blue')
        
        # Formatting
        axes[i].set_title(f'{col} vs. {y_col}', fontsize=14)
        axes[i].set_xlabel(col, fontsize=12)
        axes[i].set_ylabel(y_col, fontsize=12)
    
    # Hide any unused subplots
    for j in range(i + 1, len(axes)):
        axes[j].axis('off')
    
    # Adjust layout
    plt.suptitle(f'Pairwise Plots for {country_code}', fontsize=16)
    plt.tight_layout()
    
    return country_df



usa4 = pair_plot_age_standardized(merged_df,'USA')


import pandas as pd
import matplotlib.pyplot as plt

def plot_country_data(df, country_code):
    """
    Plots selected numerical columns for a given country code with Year as the x-axis.

    Parameters:
    - df (pd.DataFrame): The dataframe containing the data.
    - country_code (str): The country code to filter data.

    Returns:
    - None: Displays the plot.
    """
    # Define the columns to plot
    columns_to_plot = [
        'Age-standardized death rate per 100 000 standard population',
        'Death rate per 100 000 population',
        'Manufactured cigarettes sold per adult per day',
        'Black carbon (BC) emissions', 
        'PM2.5 air pollution, mean annual exposure (micrograms per cubic meter)',
        'public_health_expenditure_pc_gdp',
        'PM₂.₅ (Index)',
        'Life expectancy - Type: period - Sex: both - Age: 0',
        'Proportion of population with primary reliance on clean fuels and technologies for cooking (%) - Residence area type: Total'
    ]
    
    # Filter data for the specified country
    country_data = df[df['Code'] == country_code]
    
    if country_data.empty:
        print(f"No data available for country code: {country_code}")
        return
    
    # Ensure the data is sorted by Year
    country_data = country_data.sort_values('Year')
    
    # Interpolate missing values for smooth lines
    interpolated_data = country_data[['Year'] + columns_to_plot].interpolate(method='linear', axis=0)
    
    # Set up the plot
    plt.figure(figsize=(14, 10))
    
    # Plot each selected column
    for column in columns_to_plot:
        if column in interpolated_data.columns:
            plt.plot(interpolated_data['Year'], interpolated_data[column], label=column, alpha=0.8)
    
    # Customize the plot
    plt.title(f"Trends for {country_code} Over Time", fontsize=16)
    plt.xlabel("Year", fontsize=14)
    plt.ylabel("Value", fontsize=14)
    plt.legend(loc='best', fontsize=10)
    plt.grid(True, alpha=0.3)
    
    # Display the plot
    plt.tight_layout()
    plt.show()



usadata = plot_country_data(merged_df,'USA')


import pandas as pd
import matplotlib.pyplot as plt

def plot_with_multiple_y_axes(df, country_code):
    """
    Plots selected columns for a given country with multiple y-axes to account for differing units.
    
    Parameters:
    - df (pd.DataFrame): The dataframe containing the data.
    - country_code (str): The country code to filter data.
    
    Returns:
    - None: Displays the plot.
    """
    # Define the columns to plot
    columns_to_plot = [
        'Age-standardized death rate per 100 000 standard population',
        'Death rate per 100 000 population',
        'Manufactured cigarettes sold per adult per day',
        'public_health_expenditure_pc_gdp',
        'Black carbon (BC) emissions',
        'PM2.5 air pollution, mean annual exposure (micrograms per cubic meter)',
        'Life expectancy - Type: period - Sex: both - Age: 0',
        'PM₂.₅ (Index)',
        'Proportion of population with primary reliance on clean fuels and technologies for cooking (%) - Residence area type: Total'
    ]
    
    # Filter data for the specified country
    country_data = df[df['Code'] == country_code]
    if country_data.empty:
        print(f"No data available for country code: {country_code}")
        return
    
    # Sort by year and interpolate missing values
    country_data = country_data.sort_values('Year')
    interpolated_data = country_data[['Year'] + columns_to_plot].interpolate(method='linear', axis=0)
    
    # Plot with multiple y-axes
    fig, ax1 = plt.subplots(figsize=(14, 10))
    ax2 = ax1.twinx()  # Second y-axis
    ax3 = ax1.twinx()  # Third y-axis (adjust position later)
    
    # Offset the third axis to prevent overlap
    ax3.spines["right"].set_position(("outward", 60))
    
    # Define groups of variables for each axis
    ax1_columns = [
        'Age-standardized death rate per 100 000 standard population'
        # , 'PM2.5 air pollution, mean annual exposure (micrograms per cubic meter)'
        ,'Black carbon (BC) emissions'
    ]
    ax2_columns = [
        'Manufactured cigarettes sold per adult per day'
       
    ]
    ax3_columns = [
        'Proportion of population with primary reliance on clean fuels and technologies for cooking (%) - Residence area type: Total',
        'Life expectancy - Type: period - Sex: both - Age: 0'
        
    ]
    
    # Plot each group of columns
    for column in ax1_columns:
        ax1.plot(interpolated_data['Year'], interpolated_data[column], label=column)
    for column in ax2_columns:
        ax2.plot(interpolated_data['Year'], interpolated_data[column], label=column)
    for column in ax3_columns:
        ax3.plot(interpolated_data['Year'], interpolated_data[column], label=column)
    
    # Set axis labels
    ax1.set_xlabel('Year', fontsize=14)
    ax1.set_ylabel('Axis 1 Variables', fontsize=12)
    ax2.set_ylabel('Axis 2 Variables', fontsize=12)
    ax3.set_ylabel('Axis 3 Variables', fontsize=12)
    
    # Create legends
    ax1.legend(loc="upper left", fontsize=10)
    ax2.legend(loc="upper center", fontsize=10)
    ax3.legend(loc="upper right", fontsize=10)
    
    # Customize plot
    plt.title(f"Trends for {country_code} with Multiple Y-Axes", fontsize=16)
    plt.grid(True, alpha=0.3)
    plt.tight_layout()
    
    # Show plot
    plt.show()



usa2 = plot_with_multiple_y_axes(merged_df,'USA')


def plot_normalized_data(df, country_code):
    """
    Plots normalized values of selected columns for a given country with Year on the x-axis.

    Parameters:
    - df (pd.DataFrame): The dataframe containing the data.
    - country_code (str): The country code to filter data.

    Returns:
    - None: Displays the plot.
    """
    # Define the columns to plot
    columns_to_plot = [
        'Age-standardized death rate per 100 000 standard population',
        # 'Death rate per 100 000 population',
        'Manufactured cigarettes sold per adult per day',
        'public_health_expenditure_pc_gdp',
        # 'Carbon monoxide (CO) emissions',
        'Black carbon (BC) emissions',
        'PM10Primary',
        'PM2.5 air pollution, mean annual exposure (micrograms per cubic meter)'
        # 'Life expectancy - Type: period - Sex: both - Age: 0',
        # 'PM₂.₅ (Index)'
        # 'Proportion of population with primary reliance on clean fuels and technologies for cooking (%) - Residence area type: Total'
    ]
    
    # Filter data for the specified country
    country_data = df[df['Code'] == country_code]
    if country_data.empty:
        print(f"No data available for country code: {country_code}")
        return
    
    # Sort by year and interpolate missing values
    country_data = country_data.sort_values('Year')
    interpolated_data = country_data[['Year'] + columns_to_plot].interpolate(method='linear', axis=0)
    
    # Normalize the data
    normalized_data = interpolated_data.copy()
    for column in columns_to_plot:
        if column in normalized_data.columns:
            normalized_data[column] = (normalized_data[column] - normalized_data[column].min()) / \
                                      (normalized_data[column].max() - normalized_data[column].min())
    
    # Plot the normalized data
    plt.figure(figsize=(14, 10))
    for column in columns_to_plot:
        if column in normalized_data.columns:
            plt.plot(normalized_data['Year'], normalized_data[column], label=column, alpha=0.8)
    
    # Customize the plot
    plt.ylim(0, 1.5)
    plt.title(f"Normalized Trends for {country_code} Over Time", fontsize=16)
    plt.xlabel("Year", fontsize=14)
    plt.ylabel("Normalized Value (0-1)", fontsize=14)
    plt.legend(loc='best', fontsize=10)
    plt.grid(True, alpha=0.3)
    plt.tight_layout()
    plt.show()



usa3 = plot_normalized_data(merged_df,'USA')


import pymc as pm
import pandas as pd

# Assuming you have a DataFrame `df` with columns: ['Country', 'Year', 'DeathRate', 'SmokingRate', 'PollutionIndex', 'Age', 'HealthcareExpenditure']

df = merged_df[merged_df['Code'] == 'USA']
print(df.columns)

# We define the range for each variable's valid years
valid_years_deathrate = df['Year'] >= 1950  # DeathRate starts from 1950
valid_years_smoking = df['Year'] >= 1920  # Smoking data starts from 1920
valid_years_pollution = df['Year'] >= 1920  # Pollution data starts from 1920

# Now create a mask based on the valid years for each variable
mask = valid_years_deathrate & valid_years_smoking & valid_years_pollution

df_filtered = df[mask]

with pm.Model() as model:
    # Prior for time lag (assumed normal distribution centered at 30 years)
    lag = pm.Normal('lag', mu=30, sigma=5)  # lag is sampled, not fixed
    
    # Priors for other coefficients
    beta_0 = pm.Normal('beta_0', mu=0, sigma=10)
    beta_smoking = pm.Normal('beta_smoking', mu=0, sigma=1)
    beta_pollution = pm.Normal('beta_pollution', mu=0, sigma=1)
    beta_age = pm.Normal('beta_age', mu=0, sigma=0.5)
    beta_healthcare = pm.Normal('beta_healthcare', mu=0, sigma=0.5)
    
    # Likelihood (assumes a normal likelihood)
    likelihood = pm.Normal('y', 
                           mu=beta_0 + beta_smoking * df_filtered['Manufactured cigarettes sold per adult per day'] + 
                              beta_pollution * df_filtered['Black carbon (BC) emissions'] + 
                              beta_age * df_filtered['Life expectancy - Type: period - Sex: both - Age: 0'] + 
                              beta_healthcare * df_filtered['public_health_expenditure_pc_gdp'], 
                           sigma=1, observed=df_filtered['Death rate per 100 000 population'])
    
    # Inference: sampling from the posterior
    trace = pm.sample(500, return_inferencedata=True)

# After the sampling, apply the lag to shift the data
lag_samples = trace['lag']  # Get the sampled values for lag

# To shift the data by the lag, use the sampled lag values
# Assuming you want to use the closest lag for each observation, you could apply it as follows:
df_filtered['smoking_lagged'] = df_filtered['Manufactured cigarettes sold per adult per day'].shift(lag_samples.astype(int)).interpolate(method='nearest')
df_filtered['pollution_lagged'] = df_filtered['Black carbon (BC) emissions'].shift(lag_samples.astype(int)).interpolate(method='nearest')

# Now you can proceed to analyze or visualize the lagged data as needed.



model.debug()


import pandas as pd
import numpy as np
import matplotlib.pyplot as plt
import statsmodels.api as sm
import statsmodels.formula.api as smf

# Clean and select necessary columns
# 'Code', 'Entity', 'Year', 'Number',
#        'Percentage of cause-specific deaths out of total deaths',
#        'Age-standardized death rate per 100 000 standard population',
#        'Death rate per 100 000 population',
#        'Manufactured cigarettes sold per adult per day',
#        'public_health_expenditure_pc_gdp',
#        'PM2.5 air pollution, mean annual exposure (micrograms per cubic meter)',
#        'GDP per capita, PPP (constant 2017 international $)',
#        'Life expectancy - Type: period - Sex: both - Age: 0', 'PM₁₀ (Index)',
#        'PM₂.₅ (Index)', 'Non-methane volatile organic compounds (Index)',
#        'Nitrogen oxides (Index)', 'Ammonia (Index)', 'Sulphur dioxide (Index)',
#        'Nitrogen oxide (NOx)', 'Sulphur dioxide (SO鈧) emissions',
#        'Carbon monoxide (CO) emissions', 'Organic carbon (OC) emissions',
#        'Non-methane volatile organic compounds (NMVOC) emissions',
#        'Black carbon (BC) emissions', 'Ammonia (NH鈧) emissions',
data_clean = merged_df[[
    "Code", "Entity", "Year", "Death rate per 100 000 population", 
    "Manufactured cigarettes sold per adult per day", 
    "public_health_expenditure_pc_gdp", 
    "Life expectancy - Type: period - Sex: both - Age: 0", 
    "Black carbon (BC) emissions"
    # "Carbon monoxide (CO) emissions"
]]
data_clean.columns = ["Code", "Entity", "Year", "Death", "Cigarette", "HealthExpense", "LifeExpectancy", "CO"]

# Filter data for the United States and relevant years
data_us = data_clean[data_clean["Code"] == "USA"]

# Plot death rates and health expenses over time
plt.figure(figsize=(10, 6))
plt.plot(data_us["Year"], data_us["Death"], color="red", label="Death Rate")
plt.plot(data_us["Year"], data_us["HealthExpense"], color="blue", label="Health Expenses")
plt.xlabel("Year")
plt.ylabel("Values")
plt.title("Trends in Death Rates and Health Expenses (USA)")
plt.legend()
plt.show()

# Restrict data to relevant years and columns
filtered_data = data_us[(data_us["Year"] >= 1950) & (data_us["Year"] <= 2020)].copy()

filtered_data["Cigarette"] = data_us.loc[data_us["Year"].between(1950-30, 2020-30), "Cigarette"].values
filtered_data["CO"] = data_us.loc[data_us["Year"].between(1950-30, 2020-30), "CO"].values / 1e7

# Define and fit the linear regression model
model = smf.ols("Death ~ Cigarette + LifeExpectancy + CO", data=filtered_data).fit()
print(model.summary())

# Simplify the model (stepwise-like selection)
model_simplified = smf.ols("Death ~ Cigarette + CO", data=filtered_data).fit()
print(model_simplified.summary())

# Generate predictions using the simplified model
filtered_data["Predicted_Death"] = model_simplified.predict(filtered_data[["Cigarette", "CO"]])

# Plot true vs. predicted death rates
plt.figure(figsize=(10, 6))
plt.plot(filtered_data["Year"], filtered_data["Death"], color="red", label="Actual Death Rate")
plt.plot(filtered_data["Year"], filtered_data["Predicted_Death"], color="blue", label="Predicted Death Rate")
plt.xlabel("Year")
plt.ylabel("Death Rate")
plt.title("Actual vs Predicted Death Rates (USA)")
plt.legend()
plt.show()




